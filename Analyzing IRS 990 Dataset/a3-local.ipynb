{
 "cells": [
  {
   "cell_type": "markdown",
   "metadata": {},
   "source": [
    "sample test"
   ]
  },
  {
   "cell_type": "code",
   "execution_count": 4,
   "metadata": {},
   "outputs": [
    {
     "data": {
      "text/plain": [
       "[10000, 9999, 9998, 9997, 9997, 9997, 9995, 9994, 9993, 9993]"
      ]
     },
     "execution_count": 4,
     "metadata": {},
     "output_type": "execute_result"
    }
   ],
   "source": [
    "import pyspark\n",
    "sc = pyspark.SparkContext.getOrCreate()\n",
    "\n",
    "import random\n",
    "rdd = sc.parallelize([random.randint(0,10000) for i in range(10000)])\n",
    "rdd.takeOrdered(10, key=lambda x: -x)\n"
   ]
  },
  {
   "cell_type": "markdown",
   "metadata": {},
   "source": [
    "As with 1040 individual tax return forms, US 990 filers may file different versions of the form, including 990 and 990EZ. Output the number of returns filed of each return type."
   ]
  },
  {
   "cell_type": "code",
   "execution_count": 5,
   "metadata": {},
   "outputs": [
    {
     "data": {
      "text/plain": [
       "[Row(RETURN_TYPE='990EO', count=28537),\n",
       " Row(RETURN_TYPE='990EZ', count=84652),\n",
       " Row(RETURN_TYPE='990O', count=50987),\n",
       " Row(RETURN_TYPE='990PF', count=53694),\n",
       " Row(RETURN_TYPE='990', count=160550)]"
      ]
     },
     "execution_count": 5,
     "metadata": {},
     "output_type": "execute_result"
    }
   ],
   "source": [
    "from pyspark import SparkContext\n",
    "from pyspark.sql import SQLContext\n",
    "import pandas as pd\n",
    "sql = pyspark.SQLContext(sc)\n",
    "df=sql.read.option(\"header\", \"true\").csv(\"index_2016.csv\")\n",
    "df.groupBy('RETURN_TYPE').count().collect()\n"
   ]
  },
  {
   "cell_type": "markdown",
   "metadata": {},
   "source": [
    "List the top ten dates when returns were submitted. \n",
    "Are there any patterns?\n",
    "Why do you think the dates that are near the top are there?"
   ]
  },
  {
   "cell_type": "code",
   "execution_count": 6,
   "metadata": {},
   "outputs": [
    {
     "data": {
      "text/plain": [
       "[Row(SUB_DATE='08/30/2016', count=6687),\n",
       " Row(SUB_DATE='01/21/2016', count=5994),\n",
       " Row(SUB_DATE='01/20/2016', count=5560),\n",
       " Row(SUB_DATE='01/26/2016', count=5432),\n",
       " Row(SUB_DATE='10/13/2016', count=5054),\n",
       " Row(SUB_DATE='01/22/2016', count=4885),\n",
       " Row(SUB_DATE='02/18/2016', count=4877),\n",
       " Row(SUB_DATE='08/16/2016', count=4845),\n",
       " Row(SUB_DATE='01/27/2016', count=4647),\n",
       " Row(SUB_DATE='01/14/2016', count=4469)]"
      ]
     },
     "execution_count": 6,
     "metadata": {},
     "output_type": "execute_result"
    }
   ],
   "source": [
    "subDatecount=df.groupBy('SUB_DATE').count().sort('count', ascending=False).collect()\n",
    "subDatecount[:10]\n",
    "# Final output for Question 2.b\n",
    "# From the final output we can observe that 6 out of top 10 popular dates to file are in the month of january.\n",
    "# Form 990, 990-EZ, or 990-PF is due by May 15 of the following year.\n",
    "# 7 out of 10 dates are prior to deadline and 3 dates are after deadline."
   ]
  },
  {
   "cell_type": "markdown",
   "metadata": {},
   "source": [
    "Create a new table that shows how many returns were submitted in each month of 2016. \n",
    "Order it by the number of returns submitted."
   ]
  },
  {
   "cell_type": "code",
   "execution_count": 7,
   "metadata": {},
   "outputs": [
    {
     "data": {
      "text/plain": [
       "[Row(month=8, count=60929),\n",
       " Row(month=1, count=60470),\n",
       " Row(month=2, count=57674),\n",
       " Row(month=12, count=47433),\n",
       " Row(month=10, count=38635),\n",
       " Row(month=9, count=38189),\n",
       " Row(month=7, count=35288),\n",
       " Row(month=3, count=17974),\n",
       " Row(month=11, count=17832),\n",
       " Row(month=4, count=3996)]"
      ]
     },
     "execution_count": 7,
     "metadata": {},
     "output_type": "execute_result"
    }
   ],
   "source": [
    "from pyspark.sql.functions import *\n",
    "year_month=df.select(month(to_date(df.SUB_DATE,'MM/dd/yyyy')).alias('month')).collect()\n",
    "month_df = sql.createDataFrame(year_month)\n",
    "month_count=month_df.groupBy('month').count().sort('count', ascending=False).collect()\n",
    "month_count\n",
    "# Final output for Question 2c"
   ]
  },
  {
   "cell_type": "code",
   "execution_count": 2,
   "metadata": {
    "collapsed": true
   },
   "outputs": [],
   "source": [
    "import os\n",
    "os.environ['PYSPARK_SUBMIT_ARGS'] = '--packages com.databricks:spark-xml_2.11:0.4.1 pyspark-shell'"
   ]
  },
  {
   "cell_type": "code",
   "execution_count": 9,
   "metadata": {},
   "outputs": [
    {
     "data": {
      "text/plain": [
       "1000"
      ]
     },
     "execution_count": 9,
     "metadata": {},
     "output_type": "execute_result"
    }
   ],
   "source": [
    "sample=sql.read.option(\"header\", \"true\").csv(\"index_2016_sample.csv\") # Reading index_2016_sample.csv file into sample variable\n",
    "object_id = sample[sample['RETURN_TYPE'] == \"990EZ\"] # selecting only items of 990EZ return type.\n",
    "objectId=object_id.select('OBJECT_ID').collect() # selecting objectId of all the items of 990EZ return type.\n",
    "n=len(objectId) # total number of Object_Id's.\n",
    "myfiles=[]\n",
    "for i in range(0,n):\n",
    "    myfiles.append('https://irs-form-990.s3.amazonaws.com/'+str(objectId[i][0])+'_public.xml')\n",
    "for i in range(0,n):\n",
    "    sc.addFile(myfiles[i])\n",
    "df1 = sql.read.format(\"xml\").options(rowTag=\"IRS990EZ\").load(pyspark.SparkFiles.get(\"*_public.xml\")).coalesce(10)     \n",
    "df1.count() # counting number of files.\n",
    "# Final output for Question 3a."
   ]
  },
  {
   "cell_type": "markdown",
   "metadata": {},
   "source": [
    "Find the maximum, minimum, and mean gross receipts amount (GrossReceiptsAmt) in the data. \n",
    "What do you notice about the maximum; why is this?"
   ]
  },
  {
   "cell_type": "code",
   "execution_count": 10,
   "metadata": {},
   "outputs": [
    {
     "name": "stdout",
     "output_type": "stream",
     "text": [
      "[Row(min(GrossReceiptsAmt)=0)] [Row(max(GrossReceiptsAmt)=199952)] [Row(avg(GrossReceiptsAmt)=69823.25)]\n"
     ]
    }
   ],
   "source": [
    "minimum=df1.select(min('GrossReceiptsAmt')).collect() # minimum GrossReceiptsAmount\n",
    "maximum=df1.select(max('GrossReceiptsAmt')).collect() # maximum GrossReceiptsAmount\n",
    "mean=df1.select(mean('GrossReceiptsAmt')).collect() #mean GrossReceiptsAmount\n",
    "print(minimum, maximum, mean)\n",
    "# Final output for Question 3b.\n",
    "# where minimum amount is 0, maximum is 199952 and mean is 69823.25"
   ]
  },
  {
   "cell_type": "markdown",
   "metadata": {},
   "source": [
    "The tax form requires organizations to specify their net assets or fund balances at the beginning of the year (BOY) and the end of the year (EOY).\n",
    "Look at NetAssetsOrFundBalancesEOYAmt and NetAssetsOrFundBalancesBOYAmt. \n",
    "Compute the change in these balances and create a histogram showing the distribution among the different returns of the change."
   ]
  },
  {
   "cell_type": "code",
   "execution_count": 48,
   "metadata": {},
   "outputs": [
    {
     "data": {
      "image/png": "[encoded data removed]",
      "text/plain": [
       "<matplotlib.figure.Figure at 0xa46c3eec>"
      ]
     },
     "metadata": {},
     "output_type": "display_data"
    }
   ],
   "source": [
    "import pandas as pd\n",
    "import matplotlib.pyplot as plt\n",
    "new_df=df1.withColumn('change', abs(df1['NetAssetsOrFundBalancesEOYAmt']-df1['NetAssetsOrFundBalancesBOYAmt']))\n",
    "new_df1=new_df.na.drop(subset=[\"change\"])\n",
    "changelist=new_df1.select(\"change\").collect()\n",
    "#rdd=new_df1.rdd\n",
    "#rdd = sc.parallelize(range(max(changelist))\n",
    "#rdd.histogram(changelist)\n",
    "changelist1=[]\n",
    "for i in range(len(changelist)):\n",
    "    changelist1.append(changelist[i][0])\n",
    "rdd = sc.parallelize(changelist1)\n",
    "plot_data=plt.hist(rdd.collect())\n",
    "plt.show()\n",
    "# Final Output for the Question 3c."
   ]
  }
 ],
 "metadata": {
  "kernelspec": {
   "display_name": "Python 3",
   "language": "python",
   "name": "python3"
  },
  "language_info": {
   "codemirror_mode": {
    "name": "ipython",
    "version": 3
   },
   "file_extension": ".py",
   "mimetype": "text/x-python",
   "name": "python",
   "nbconvert_exporter": "python",
   "pygments_lexer": "ipython3",
   "version": "3.6.1"
  }
 },
 "nbformat": 4,
 "nbformat_minor": 2
}
