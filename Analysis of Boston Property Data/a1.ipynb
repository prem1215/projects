{
 "cells": [
  {
   "cell_type": "markdown",
   "metadata": {},
   "source": [
    "Find the highest assessed value (AV_TOTAL) of any property in the dataset. What is the address of this property?"
   ]
  },
  {
   "cell_type": "code",
   "execution_count": 1,
   "metadata": {},
   "outputs": [
    {
     "name": "stdout",
     "output_type": "stream",
     "text": [
      "Heighest Assessed Value: 1999838000\n",
      "Address: 32 FRUIT BOSTON MA 02114_\n"
     ]
    },
    {
     "name": "stderr",
     "output_type": "stream",
     "text": [
      "/home/prem/anaconda3/lib/python3.6/site-packages/IPython/core/interactiveshell.py:2717: DtypeWarning: Columns (60,63) have mixed types. Specify dtype option on import or set low_memory=False.\n",
      "  interactivity=interactivity, compiler=compiler, result=result)\n"
     ]
    }
   ],
   "source": [
    "import pandas as pd\n",
    "import numpy as np\n",
    "data=pd.read_csv('property-assessment-fy2017.csv')# reading data into data variable\n",
    "index=np.argmax(data[\"AV_TOTAL\"])# index of heighest av_total\n",
    "task1=data.loc[index]#dataset of av_total property\n",
    "print(\"Heighest Assessed Value:\",task1[\"AV_TOTAL\"])# highest assessed value\n",
    "print(\"Address:\",task1[\"MAIL_ADDRESS\"], task1[\"MAIL CS\"], task1[\"MAIL_ZIPCODE\"]) #address\n"
   ]
  },
  {
   "cell_type": "markdown",
   "metadata": {},
   "source": [
    "Find the maximum, minimum, and median ages of the buildings assessed in the city of Boston."
   ]
  },
  {
   "cell_type": "code",
   "execution_count": 2,
   "metadata": {},
   "outputs": [
    {
     "name": "stdout",
     "output_type": "stream",
     "text": [
      "maximum age of buildings: 317.0\n",
      "minimum age of buildings: 1.0\n",
      "median age of buildings: 102.0\n"
     ]
    }
   ],
   "source": [
    "year_built = data[data['YR_BUILT'] != 0].copy() # removing properties with year built 0\n",
    "year= year_built['YR_BUILT'] \n",
    "age=2017-year\n",
    "largest=age.max() # maximum age\n",
    "smallest=age.min() # minimum age\n",
    "median=age.median() # median age\n",
    "print(\"maximum age of buildings:\", largest) \n",
    "print(\"minimum age of buildings:\", smallest)\n",
    "print(\"median age of buildings:\",median)  "
   ]
  },
  {
   "cell_type": "markdown",
   "metadata": {},
   "source": [
    "find the addresses of the top five single-family residences in assessed land value. Which street has three of the top five residences?"
   ]
  },
  {
   "cell_type": "code",
   "execution_count": 3,
   "metadata": {},
   "outputs": [
    {
     "name": "stdout",
     "output_type": "stream",
     "text": [
      "45521    116 FLANDERS RD SUITE 1100\n",
      "46821         132 TURNPIKE RD  #100\n",
      "41088       625 LIBERTY AV STE 3200\n",
      "41271             22  LOUISBURG  SQ\n",
      "41277               10 LOUISBURG SQ\n",
      "Name: MAIL_ADDRESS, dtype: object\n",
      "ST_NAME\n",
      "LOUISBURG    3\n",
      "dtype: int64\n"
     ]
    }
   ],
   "source": [
    "r1 = data[data['LU'] == \"R1\"] #only properties with land use type R1\n",
    "y=r1.nlargest(5, 'AV_LAND') #selecting top 5 single family residences\n",
    "address= y['MAIL_ADDRESS'] # address of top 5 single family residences\n",
    "count_street = y.groupby([\"ST_NAME\"]).size() # count of streets with top 5 R1 residences \n",
    "street3= count_street[count_street==3] # street with 3 largest AV_LAND properties\n",
    "print(address)\n",
    "print(street3)"
   ]
  },
  {
   "cell_type": "markdown",
   "metadata": {},
   "source": [
    "What is the median tax rate (gross tax divided by total assessed value) among single-family residences?"
   ]
  },
  {
   "cell_type": "code",
   "execution_count": 4,
   "metadata": {},
   "outputs": [
    {
     "data": {
      "text/plain": [
       "1.0589992708713087"
      ]
     },
     "execution_count": 4,
     "metadata": {},
     "output_type": "execute_result"
    }
   ],
   "source": [
    "median_tax=r1['GROSS_TAX']/r1['AV_TOTAL'] #median tax rate among single family residences  \n",
    "median_tax.median()\n",
    "\n",
    "# median tax for single residence properties is $1.058. In website it is given that tax rate is  $10.59 per thousand dollors.   "
   ]
  },
  {
   "cell_type": "markdown",
   "metadata": {},
   "source": [
    "Find the street that has the highest average gross tax for single-family residential properties, among streets with at least twenty (20) single-family residential properties. This excludes streets with only a few homes."
   ]
  },
  {
   "cell_type": "code",
   "execution_count": 5,
   "metadata": {},
   "outputs": [
    {
     "name": "stdout",
     "output_type": "stream",
     "text": [
      "Streets with more than 20 single residences: ST_NAME\n",
      "ADAMS               71\n",
      "ADDINGTON           31\n",
      "ALABAMA             43\n",
      "ALBION              23\n",
      "ALDRICH             39\n",
      "ALLSTON             27\n",
      "ALMONT              44\n",
      "ALWIN               23\n",
      "AMERICAN LEGION     20\n",
      "ANAWAN              32\n",
      "ANNAFRAN            28\n",
      "APPLETON            22\n",
      "ARBORFIELD          24\n",
      "ARBORWAY            54\n",
      "ARDALE              25\n",
      "ARLINGTON           60\n",
      "ASHEVILLE           24\n",
      "ASHMONT             65\n",
      "ATHENS              26\n",
      "ATHERTON            26\n",
      "AURIGA              23\n",
      "AUSTIN              70\n",
      "AVALON              26\n",
      "AYLES               21\n",
      "BADGER              32\n",
      "BAKER              103\n",
      "BALDWIN             38\n",
      "BARTLETT            37\n",
      "BATEMAN             36\n",
      "BEACHVIEW           22\n",
      "                  ... \n",
      "WEBSTER             26\n",
      "WELD               136\n",
      "WELLES              20\n",
      "WELLESLEY           22\n",
      "WELLINGTON HILL     47\n",
      "WEST                80\n",
      "WESTBOURNE          25\n",
      "WESTCHESTER         37\n",
      "WESTGLOW            33\n",
      "WESTMINSTER         42\n",
      "WESTMOOR            59\n",
      "WESTOVER            38\n",
      "WHITCOMB            26\n",
      "WHITFORD            25\n",
      "WILLIAMS            46\n",
      "WILLOW              46\n",
      "WILLOWDEAN          28\n",
      "WILMINGTON          37\n",
      "WINDHAM             56\n",
      "WINTHROP            21\n",
      "WOOD                47\n",
      "WOODARD             38\n",
      "WOODHAVEN           30\n",
      "WOODLAND            25\n",
      "WOODLEY             54\n",
      "WOODROW             38\n",
      "WREN                60\n",
      "WRENTHAM            36\n",
      "WYCLIFF             26\n",
      "ZELLER              20\n",
      "Length: 448, dtype: int64\n",
      "streets with their average Gross tax values: ST_NAME\n",
      "ABBOTSFORD                   3.216533e+05\n",
      "ABBY                         4.851275e+05\n",
      "ABERDEEN                     1.305866e+06\n",
      "ACACIA                       3.980423e+05\n",
      "ACADEMY HILL                 7.199432e+05\n",
      "ACKLEY                       5.790610e+05\n",
      "ACORN                        2.385258e+06\n",
      "ACTON                        2.392280e+05\n",
      "ADA                          3.913535e+05\n",
      "ADAIR                        6.009470e+05\n",
      "ADAMS                        5.435309e+05\n",
      "ADAMSON                      4.855042e+05\n",
      "ADDINGTON                    4.853290e+05\n",
      "ADDINGTON                    4.678125e+05\n",
      "ADDISON                      3.347496e+05\n",
      "ADELAIDE                     7.863070e+05\n",
      "ADELLA                       5.836140e+05\n",
      "AGASSIZ                      1.234582e+06\n",
      "AGAWAM                       4.148102e+05\n",
      "AINSLEY                      5.003504e+05\n",
      "AINSWORTH                    5.380140e+05\n",
      "AINSWORTH                    4.723140e+05\n",
      "AKRON                        2.940724e+05\n",
      "ALABAMA                      2.902294e+05\n",
      "ALAMEDA                      5.873210e+05\n",
      "ALARIC                       4.715235e+05\n",
      "ALASKA                       4.186434e+05\n",
      "ALBAN                        6.716094e+05\n",
      "ALBANO                       4.865902e+05\n",
      "ALBEMARLE                    4.039023e+05\n",
      "                                 ...     \n",
      "WOODCLIFF                    3.413150e+05\n",
      "WOODDALE                     3.158820e+05\n",
      "WOODGLEN                     3.355616e+05\n",
      "WOODHAVEN                    3.616976e+05\n",
      "WOODLAND                     8.638680e+05\n",
      "WOODLAWN                     5.758840e+05\n",
      "WOODLEY                      4.338494e+05\n",
      "WOODROW                      2.583652e+05\n",
      "WOODS                        7.910724e+05\n",
      "WOODSTOCK                    5.935480e+05\n",
      "WOODVILLE                    2.255348e+05\n",
      "WOODWARD                     2.658726e+05\n",
      "WOODWARD PARK                2.068016e+05\n",
      "WOOLSON                      4.237060e+05\n",
      "WORCESTER                    2.878150e+06\n",
      "WORDSWORTH                   3.219581e+05\n",
      "WORLEY                       5.132307e+05\n",
      "WORTHINGTON                  7.984234e+05\n",
      "WREN                         6.335561e+05\n",
      "WRENTHAM                     4.043965e+05\n",
      "WYCLIFF                      4.635366e+05\n",
      "WYMAN                        7.837524e+05\n",
      "WYOMING                      3.386150e+05\n",
      "WYVERN                       3.946388e+05\n",
      "YALE                         5.122380e+05\n",
      "YARMOUTH                     2.595796e+06\n",
      "YORKTOWN                     4.803355e+05\n",
      "YUILL                        3.957127e+05\n",
      "ZAMORA                       1.077779e+06\n",
      "ZELLER                       4.917065e+05\n",
      "Name: GROSS_TAX, Length: 2385, dtype: float64\n"
     ]
    }
   ],
   "source": [
    "#task4b= r1.groupby(['ST_NAME']).size()\n",
    "#st_gross=r1.groupby(['ST_NAME',sum('GROSS_TAX')]).size()\n",
    "#single_family= r1[['ST_NAME','GROSS_TAX','AV_TOTAL']]\n",
    "#street20=task4b[task4b>=20]\n",
    "#single_family['count'] = pd.Series(len(street20), index=street20.index)\n",
    "#street_names=street20.index[street20]\n",
    "st_count= r1.groupby(['ST_NAME']).size()\n",
    "st_count20= st_count[st_count>= 20]\n",
    "mean_street= r1.groupby(['ST_NAME'])['GROSS_TAX'].mean()\n",
    "index=list(st_count20.keys())\n",
    "print(\"Streets with more than 20 single residences:\",st_count20)\n",
    "print(\"streets with their average Gross tax values:\", mean_street)"
   ]
  },
  {
   "cell_type": "code",
   "execution_count": null,
   "metadata": {
    "collapsed": true
   },
   "outputs": [],
   "source": []
  },
  {
   "cell_type": "code",
   "execution_count": null,
   "metadata": {
    "collapsed": true
   },
   "outputs": [],
   "source": []
  }
 ],
 "metadata": {
  "kernelspec": {
   "display_name": "Python 3",
   "language": "python",
   "name": "python3"
  },
  "language_info": {
   "codemirror_mode": {
    "name": "ipython",
    "version": 3
   },
   "file_extension": ".py",
   "mimetype": "text/x-python",
   "name": "python",
   "nbconvert_exporter": "python",
   "pygments_lexer": "ipython3",
   "version": "3.6.1"
  }
 },
 "nbformat": 4,
 "nbformat_minor": 2
}
